{
 "cells": [
  {
   "cell_type": "code",
   "execution_count": 3,
   "metadata": {},
   "outputs": [],
   "source": [
    "import os"
   ]
  },
  {
   "cell_type": "code",
   "execution_count": 2,
   "metadata": {},
   "outputs": [
    {
     "name": "stdout",
     "output_type": "stream",
     "text": [
      "Collecting pyqt5\n",
      "  Using cached PyQt5-5.15.6-cp36-abi3-win_amd64.whl (6.7 MB)\n",
      "Collecting lxml\n",
      "  Using cached lxml-4.8.0-cp39-cp39-win_amd64.whl (3.6 MB)\n",
      "Collecting PyQt5-Qt5>=5.15.2\n",
      "  Using cached PyQt5_Qt5-5.15.2-py3-none-win_amd64.whl (50.1 MB)\n",
      "Collecting PyQt5-sip<13,>=12.8\n",
      "  Downloading PyQt5_sip-12.9.1-cp39-cp39-win_amd64.whl (77 kB)\n",
      "     -------------------------------------- 77.7/77.7 KB 539.7 kB/s eta 0:00:00\n",
      "Installing collected packages: PyQt5-Qt5, PyQt5-sip, lxml, pyqt5\n",
      "Successfully installed PyQt5-Qt5-5.15.2 PyQt5-sip-12.9.1 lxml-4.8.0 pyqt5-5.15.6\n"
     ]
    }
   ],
   "source": [
    "!pip install --upgrade pyqt5 lxml"
   ]
  },
  {
   "cell_type": "code",
   "execution_count": 4,
   "metadata": {},
   "outputs": [],
   "source": [
    "LABELIMG_PATH = os.path.join('Tensorflow', 'labelimg')"
   ]
  },
  {
   "cell_type": "code",
   "execution_count": 4,
   "metadata": {},
   "outputs": [
    {
     "name": "stderr",
     "output_type": "stream",
     "text": [
      "Cloning into 'Tensorflow\\labelimg'...\n"
     ]
    }
   ],
   "source": [
    "if not os.path.exists(LABELIMG_PATH):\n",
    "    !mkdir {LABELIMG_PATH}\n",
    "    !git clone https://github.com/tzutalin/labelImg {LABELIMG_PATH}"
   ]
  },
  {
   "cell_type": "code",
   "execution_count": 5,
   "metadata": {},
   "outputs": [],
   "source": [
    "!cd {LABELIMG_PATH} && pyrcc5 -o libs/resources.py resources.qrc"
   ]
  },
  {
   "cell_type": "code",
   "execution_count": 5,
   "metadata": {},
   "outputs": [
    {
     "name": "stdout",
     "output_type": "stream",
     "text": [
      "Image:E:\\Projects\\RealTimeObjectDetection\\Tensorflow\\workspace\\images\\collectedimages\\hello\\hello.4a11ed93-affa-11ec-a6cb-9c2976d95f70.jpg -> Annotation:E:/Projects/RealTimeObjectDetection/Tensorflow/workspace/images/collectedimages/hello\\hello.4a11ed93-affa-11ec-a6cb-9c2976d95f70.xml\n",
      "Image:E:\\Projects\\RealTimeObjectDetection\\Tensorflow\\workspace\\images\\collectedimages\\hello\\hello.4c805f99-affa-11ec-ba92-9c2976d95f70.jpg -> Annotation:E:/Projects/RealTimeObjectDetection/Tensorflow/workspace/images/collectedimages/hello\\hello.4c805f99-affa-11ec-ba92-9c2976d95f70.xml\n",
      "Image:E:\\Projects\\RealTimeObjectDetection\\Tensorflow\\workspace\\images\\collectedimages\\hello\\hello.4db70537-affa-11ec-9e64-9c2976d95f70.jpg -> Annotation:E:/Projects/RealTimeObjectDetection/Tensorflow/workspace/images/collectedimages/hello\\hello.4db70537-affa-11ec-9e64-9c2976d95f70.xml\n",
      "Image:E:\\Projects\\RealTimeObjectDetection\\Tensorflow\\workspace\\images\\collectedimages\\hello\\hello.5c8a6514-affa-11ec-899d-9c2976d95f70.jpg -> Annotation:E:/Projects/RealTimeObjectDetection/Tensorflow/workspace/images/collectedimages/hello\\hello.5c8a6514-affa-11ec-899d-9c2976d95f70.xml\n",
      "Image:E:\\Projects\\RealTimeObjectDetection\\Tensorflow\\workspace\\images\\collectedimages\\hello\\hello.5ef6c405-affa-11ec-a660-9c2976d95f70.jpg -> Annotation:E:/Projects/RealTimeObjectDetection/Tensorflow/workspace/images/collectedimages/hello\\hello.5ef6c405-affa-11ec-a660-9c2976d95f70.xml\n",
      "Image:E:\\Projects\\RealTimeObjectDetection\\Tensorflow\\workspace\\images\\collectedimages\\hello\\hello.6b10886a-affa-11ec-a224-9c2976d95f70.jpg -> Annotation:E:/Projects/RealTimeObjectDetection/Tensorflow/workspace/images/collectedimages/hello\\hello.6b10886a-affa-11ec-a224-9c2976d95f70.xml\n",
      "Image:E:\\Projects\\RealTimeObjectDetection\\Tensorflow\\workspace\\images\\collectedimages\\hello\\hello.42c0fdad-affa-11ec-835e-9c2976d95f70.jpg -> Annotation:E:/Projects/RealTimeObjectDetection/Tensorflow/workspace/images/collectedimages/hello\\hello.42c0fdad-affa-11ec-835e-9c2976d95f70.xml\n",
      "Image:E:\\Projects\\RealTimeObjectDetection\\Tensorflow\\workspace\\images\\collectedimages\\hello\\hello.47a6980f-affa-11ec-883a-9c2976d95f70.jpg -> Annotation:E:/Projects/RealTimeObjectDetection/Tensorflow/workspace/images/collectedimages/hello\\hello.47a6980f-affa-11ec-883a-9c2976d95f70.xml\n",
      "Image:E:\\Projects\\RealTimeObjectDetection\\Tensorflow\\workspace\\images\\collectedimages\\hello\\hello.48dc0050-affa-11ec-9a4e-9c2976d95f70.jpg -> Annotation:E:/Projects/RealTimeObjectDetection/Tensorflow/workspace/images/collectedimages/hello\\hello.48dc0050-affa-11ec-9a4e-9c2976d95f70.xml\n",
      "Image:E:\\Projects\\RealTimeObjectDetection\\Tensorflow\\workspace\\images\\collectedimages\\hello\\hello.63cd25b6-affa-11ec-8ac4-9c2976d95f70.jpg -> Annotation:E:/Projects/RealTimeObjectDetection/Tensorflow/workspace/images/collectedimages/hello\\hello.63cd25b6-affa-11ec-8ac4-9c2976d95f70.xml\n",
      "Image:E:\\Projects\\RealTimeObjectDetection\\Tensorflow\\workspace\\images\\collectedimages\\hello\\hello.69dc10da-affa-11ec-8d00-9c2976d95f70.jpg -> Annotation:E:/Projects/RealTimeObjectDetection/Tensorflow/workspace/images/collectedimages/hello\\hello.69dc10da-affa-11ec-8d00-9c2976d95f70.xml\n",
      "Image:E:\\Projects\\RealTimeObjectDetection\\Tensorflow\\workspace\\images\\collectedimages\\hello\\hello.602caf4f-affa-11ec-8580-9c2976d95f70.jpg -> Annotation:E:/Projects/RealTimeObjectDetection/Tensorflow/workspace/images/collectedimages/hello\\hello.602caf4f-affa-11ec-8580-9c2976d95f70.xml\n",
      "Image:E:\\Projects\\RealTimeObjectDetection\\Tensorflow\\workspace\\images\\collectedimages\\hello\\hello.50226c44-affa-11ec-997b-9c2976d95f70.jpg -> Annotation:E:/Projects/RealTimeObjectDetection/Tensorflow/workspace/images/collectedimages/hello\\hello.50226c44-affa-11ec-997b-9c2976d95f70.xml\n",
      "Image:E:\\Projects\\RealTimeObjectDetection\\Tensorflow\\workspace\\images\\collectedimages\\hello\\hello.61637a82-affa-11ec-8b40-9c2976d95f70.jpg -> Annotation:E:/Projects/RealTimeObjectDetection/Tensorflow/workspace/images/collectedimages/hello\\hello.61637a82-affa-11ec-8b40-9c2976d95f70.xml\n",
      "Image:E:\\Projects\\RealTimeObjectDetection\\Tensorflow\\workspace\\images\\collectedimages\\hello\\hello.515800e6-affa-11ec-9de8-9c2976d95f70.jpg -> Annotation:E:/Projects/RealTimeObjectDetection/Tensorflow/workspace/images/collectedimages/hello\\hello.515800e6-affa-11ec-9de8-9c2976d95f70.xml\n",
      "Image:E:\\Projects\\RealTimeObjectDetection\\Tensorflow\\workspace\\images\\collectedimages\\hello\\hello.629887be-affa-11ec-a923-9c2976d95f70.jpg -> Annotation:E:/Projects/RealTimeObjectDetection/Tensorflow/workspace/images/collectedimages/hello\\hello.629887be-affa-11ec-a923-9c2976d95f70.xml\n",
      "Image:E:\\Projects\\RealTimeObjectDetection\\Tensorflow\\workspace\\images\\collectedimages\\hello\\hello.46626067-affa-11ec-8abf-9c2976d95f70.jpg -> Annotation:E:/Projects/RealTimeObjectDetection/Tensorflow/workspace/images/collectedimages/hello\\hello.46626067-affa-11ec-8abf-9c2976d95f70.xml\n"
     ]
    }
   ],
   "source": [
    "!cd {LABELIMG_PATH} && python labelImg.py"
   ]
  }
 ],
 "metadata": {
  "interpreter": {
   "hash": "e09d1cf0be93e3c6ff0be60290f216362b7b8ae7089eaf2009ad7f715b349ef0"
  },
  "kernelspec": {
   "display_name": "Python 3.9.7 ('tfodsl': venv)",
   "language": "python",
   "name": "python3"
  },
  "language_info": {
   "codemirror_mode": {
    "name": "ipython",
    "version": 3
   },
   "file_extension": ".py",
   "mimetype": "text/x-python",
   "name": "python",
   "nbconvert_exporter": "python",
   "pygments_lexer": "ipython3",
   "version": "3.9.7"
  },
  "orig_nbformat": 4
 },
 "nbformat": 4,
 "nbformat_minor": 2
}
