{
 "cells": [
  {
   "cell_type": "code",
   "execution_count": 4,
   "metadata": {},
   "outputs": [],
   "source": [
    "import pandas as pd\n",
    "import numpy as np\n",
    "\n",
    "from transformers import AutoTokenizer, AutoModelForSequenceClassification\n",
    "import torch\n",
    "import requests\n",
    " \n",
    "from bs4 import BeautifulSoup\n",
    "import requests"
   ]
  },
  {
   "cell_type": "code",
   "execution_count": 2,
   "metadata": {},
   "outputs": [],
   "source": [
    "tokenizer = AutoTokenizer.from_pretrained(\"nlptown/bert-base-multilingual-uncased-sentiment\")\n",
    "model = AutoModelForSequenceClassification.from_pretrained(\"nlptown/bert-base-multilingual-uncased-sentiment\")"
   ]
  },
  {
   "cell_type": "code",
   "execution_count": 3,
   "metadata": {},
   "outputs": [
    {
     "data": {
      "text/plain": [
       "5"
      ]
     },
     "execution_count": 3,
     "metadata": {},
     "output_type": "execute_result"
    }
   ],
   "source": [
    "token = tokenizer.encode(\"The best\",return_tensors='pt')\n",
    "int(torch.argmax(model(token).logits)+1)\n"
   ]
  },
  {
   "cell_type": "code",
   "execution_count": 34,
   "metadata": {},
   "outputs": [],
   "source": [
    "url = \"https://www.flipkart.com/realme-gt-master-voyager-grey-256-gb/product-reviews/itmcc74e8302084d?pid=MOBG5JPXRXNKKAYN&lid=LSTMOBG5JPXRXNKKAYNMWUTBT&marketplace=FLIPKART\"\n",
    "\n",
    "result = requests.get(url).text\n",
    "\n",
    "soup = BeautifulSoup(result, 'html.parser')\n",
    "pages = int(soup.find('div', class_ = \"_2MImiq _1Qnn1K\").find('span').text.split(' ')[-1])\n",
    "\n",
    "dic = {}\n",
    "for page in range(2,pages+1):\n",
    "    url = f\"https://www.flipkart.com/realme-gt-master-voyager-grey-256-gb/product-reviews/itmcc74e8302084d?pid=MOBG5JPXRXNKKAYN&lid=LSTMOBG5JPXRXNKKAYNMWUTBT&marketplace=FLIPKART&page={page}\"\n",
    "    result = requests.get(url).text\n",
    "    soup = BeautifulSoup(result, 'html.parser')\n",
    "    body = soup.find('div', class_ = '_1YokD2 _3Mn1Gg col-9-12')\n",
    "    try:\n",
    "        reviews = body.find_all('div', class_ = \"t-ZTKy\")\n",
    "    except Exception as e:\n",
    "        continue\n",
    "    dic[f'page{page}'] = [review.div.div.text for review in reviews ]"
   ]
  },
  {
   "cell_type": "code",
   "execution_count": 38,
   "metadata": {},
   "outputs": [],
   "source": [
    "data = []\n",
    "for i in dic.values():\n",
    "    for j in i:\n",
    "        data.append(j)\n",
    "\n",
    "\n",
    "mobile = pd.DataFrame(np.array(data),columns  = ['Reviews'])\n",
    "mobile.to_csv('mobile.csv')\n"
   ]
  },
  {
   "cell_type": "code",
   "execution_count": 5,
   "metadata": {},
   "outputs": [
    {
     "name": "stderr",
     "output_type": "stream",
     "text": [
      "[nltk_data] Downloading package stopwords to\n",
      "[nltk_data]     C:\\Users\\LENOVO\\AppData\\Roaming\\nltk_data...\n",
      "[nltk_data]   Unzipping corpora\\stopwords.zip.\n"
     ]
    },
    {
     "data": {
      "text/plain": [
       "True"
      ]
     },
     "execution_count": 5,
     "metadata": {},
     "output_type": "execute_result"
    }
   ],
   "source": [
    "nltk.download('stopwords')"
   ]
  },
  {
   "cell_type": "code",
   "execution_count": 6,
   "metadata": {},
   "outputs": [],
   "source": [
    "mobile = pd.read_csv('mobile.csv')\n",
    "mobile.drop(labels = ['Unnamed: 0'], axis = 'columns', inplace = True,)"
   ]
  },
  {
   "cell_type": "code",
   "execution_count": 24,
   "metadata": {},
   "outputs": [],
   "source": [
    "def sentiment(text: str):\n",
    "    token = tokenizer.encode(text,return_tensors='pt')\n",
    "    return int(torch.argmax(model(token).logits)+1)\n"
   ]
  },
  {
   "cell_type": "code",
   "execution_count": 26,
   "metadata": {},
   "outputs": [],
   "source": [
    "mobile['Sentiment'] = mobile[\"Reviews\"].apply(sentiment)"
   ]
  },
  {
   "cell_type": "code",
   "execution_count": 27,
   "metadata": {},
   "outputs": [
    {
     "data": {
      "text/html": [
       "<div>\n",
       "<style scoped>\n",
       "    .dataframe tbody tr th:only-of-type {\n",
       "        vertical-align: middle;\n",
       "    }\n",
       "\n",
       "    .dataframe tbody tr th {\n",
       "        vertical-align: top;\n",
       "    }\n",
       "\n",
       "    .dataframe thead th {\n",
       "        text-align: right;\n",
       "    }\n",
       "</style>\n",
       "<table border=\"1\" class=\"dataframe\">\n",
       "  <thead>\n",
       "    <tr style=\"text-align: right;\">\n",
       "      <th></th>\n",
       "      <th>Reviews</th>\n",
       "      <th>Sentiment</th>\n",
       "    </tr>\n",
       "  </thead>\n",
       "  <tbody>\n",
       "    <tr>\n",
       "      <th>0</th>\n",
       "      <td>Review after 45 days,Pros:1. Performance is go...</td>\n",
       "      <td>2</td>\n",
       "    </tr>\n",
       "    <tr>\n",
       "      <th>1</th>\n",
       "      <td>It's good phone camera is good . battery 🔋 is ...</td>\n",
       "      <td>4</td>\n",
       "    </tr>\n",
       "    <tr>\n",
       "      <th>2</th>\n",
       "      <td>Thank you Filpkart.. so fast delivery.. Awasom...</td>\n",
       "      <td>5</td>\n",
       "    </tr>\n",
       "    <tr>\n",
       "      <th>3</th>\n",
       "      <td>Good battery back up, amazing display, very ni...</td>\n",
       "      <td>5</td>\n",
       "    </tr>\n",
       "    <tr>\n",
       "      <th>4</th>\n",
       "      <td>Very nice phone ... Super performance... Excel...</td>\n",
       "      <td>4</td>\n",
       "    </tr>\n",
       "  </tbody>\n",
       "</table>\n",
       "</div>"
      ],
      "text/plain": [
       "                                             Reviews  Sentiment\n",
       "0  Review after 45 days,Pros:1. Performance is go...          2\n",
       "1  It's good phone camera is good . battery 🔋 is ...          4\n",
       "2  Thank you Filpkart.. so fast delivery.. Awasom...          5\n",
       "3  Good battery back up, amazing display, very ni...          5\n",
       "4  Very nice phone ... Super performance... Excel...          4"
      ]
     },
     "execution_count": 27,
     "metadata": {},
     "output_type": "execute_result"
    }
   ],
   "source": [
    "mobile.head()"
   ]
  }
 ],
 "metadata": {
  "interpreter": {
   "hash": "f8714b747436be44fda90f2e3c7ef87f97b48449e4c3a9cf20e6915a1a95b38a"
  },
  "kernelspec": {
   "display_name": "Python 3.9.7 ('psa': venv)",
   "language": "python",
   "name": "python3"
  },
  "language_info": {
   "codemirror_mode": {
    "name": "ipython",
    "version": 3
   },
   "file_extension": ".py",
   "mimetype": "text/x-python",
   "name": "python",
   "nbconvert_exporter": "python",
   "pygments_lexer": "ipython3",
   "version": "3.9.7"
  },
  "orig_nbformat": 4
 },
 "nbformat": 4,
 "nbformat_minor": 2
}
