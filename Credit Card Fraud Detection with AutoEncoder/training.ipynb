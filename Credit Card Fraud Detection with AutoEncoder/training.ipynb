{
 "cells": [
  {
   "cell_type": "code",
   "execution_count": 1,
   "metadata": {},
   "outputs": [],
   "source": [
    "\n",
    "import os\n",
    "import itertools\n",
    "\n",
    "import tensorflow as tf\n",
    "from tensorflow import keras\n",
    "from keras import layers\n",
    "import pandas as pd\n",
    "import numpy as np\n",
    "import matplotlib.pyplot as plt\n",
    "from sklearn.metrics import confusion_matrix, precision_recall_curve\n",
    "from sklearn.preprocessing import StandardScaler\n",
    "from sklearn.model_selection import train_test_split\n",
    "import seaborn as sns"
   ]
  },
  {
   "cell_type": "code",
   "execution_count": 2,
   "metadata": {},
   "outputs": [],
   "source": [
    "PLOTS_DIR = os.path.join(os.getcwd(),\"plots\")\n",
    "MODEL_SAVE_DIR = os.path.join(os.getcwd(),\"saved_models\")\n",
    "LOG_DIR = os.path.join(os.getcwd(),\"logs\")\n",
    "\n",
    "if not os.path.exists(MODEL_SAVE_DIR):\n",
    "    os.makedirs(MODEL_SAVE_DIR)\n",
    "\n",
    "if not os.path.exists(LOG_DIR):\n",
    "    os.makedirs(LOG_DIR)\n",
    "\n",
    "if not os.path.exists(PLOTS_DIR):\n",
    "    os.makedirs(PLOTS_DIR)"
   ]
  },
  {
   "cell_type": "code",
   "execution_count": 3,
   "metadata": {},
   "outputs": [],
   "source": [
    "df = pd.read_csv(r'Data\\creditcard.csv')"
   ]
  },
  {
   "cell_type": "code",
   "execution_count": 4,
   "metadata": {},
   "outputs": [
    {
     "data": {
      "text/html": [
       "<div>\n",
       "<style scoped>\n",
       "    .dataframe tbody tr th:only-of-type {\n",
       "        vertical-align: middle;\n",
       "    }\n",
       "\n",
       "    .dataframe tbody tr th {\n",
       "        vertical-align: top;\n",
       "    }\n",
       "\n",
       "    .dataframe thead th {\n",
       "        text-align: right;\n",
       "    }\n",
       "</style>\n",
       "<table border=\"1\" class=\"dataframe\">\n",
       "  <thead>\n",
       "    <tr style=\"text-align: right;\">\n",
       "      <th></th>\n",
       "      <th>Time</th>\n",
       "      <th>V1</th>\n",
       "      <th>V2</th>\n",
       "      <th>V3</th>\n",
       "      <th>V4</th>\n",
       "      <th>V5</th>\n",
       "      <th>V6</th>\n",
       "      <th>V7</th>\n",
       "      <th>V8</th>\n",
       "      <th>V9</th>\n",
       "      <th>...</th>\n",
       "      <th>V21</th>\n",
       "      <th>V22</th>\n",
       "      <th>V23</th>\n",
       "      <th>V24</th>\n",
       "      <th>V25</th>\n",
       "      <th>V26</th>\n",
       "      <th>V27</th>\n",
       "      <th>V28</th>\n",
       "      <th>Amount</th>\n",
       "      <th>Class</th>\n",
       "    </tr>\n",
       "  </thead>\n",
       "  <tbody>\n",
       "    <tr>\n",
       "      <th>0</th>\n",
       "      <td>0.0</td>\n",
       "      <td>-1.359807</td>\n",
       "      <td>-0.072781</td>\n",
       "      <td>2.536347</td>\n",
       "      <td>1.378155</td>\n",
       "      <td>-0.338321</td>\n",
       "      <td>0.462388</td>\n",
       "      <td>0.239599</td>\n",
       "      <td>0.098698</td>\n",
       "      <td>0.363787</td>\n",
       "      <td>...</td>\n",
       "      <td>-0.018307</td>\n",
       "      <td>0.277838</td>\n",
       "      <td>-0.110474</td>\n",
       "      <td>0.066928</td>\n",
       "      <td>0.128539</td>\n",
       "      <td>-0.189115</td>\n",
       "      <td>0.133558</td>\n",
       "      <td>-0.021053</td>\n",
       "      <td>149.62</td>\n",
       "      <td>0</td>\n",
       "    </tr>\n",
       "    <tr>\n",
       "      <th>1</th>\n",
       "      <td>0.0</td>\n",
       "      <td>1.191857</td>\n",
       "      <td>0.266151</td>\n",
       "      <td>0.166480</td>\n",
       "      <td>0.448154</td>\n",
       "      <td>0.060018</td>\n",
       "      <td>-0.082361</td>\n",
       "      <td>-0.078803</td>\n",
       "      <td>0.085102</td>\n",
       "      <td>-0.255425</td>\n",
       "      <td>...</td>\n",
       "      <td>-0.225775</td>\n",
       "      <td>-0.638672</td>\n",
       "      <td>0.101288</td>\n",
       "      <td>-0.339846</td>\n",
       "      <td>0.167170</td>\n",
       "      <td>0.125895</td>\n",
       "      <td>-0.008983</td>\n",
       "      <td>0.014724</td>\n",
       "      <td>2.69</td>\n",
       "      <td>0</td>\n",
       "    </tr>\n",
       "    <tr>\n",
       "      <th>2</th>\n",
       "      <td>1.0</td>\n",
       "      <td>-1.358354</td>\n",
       "      <td>-1.340163</td>\n",
       "      <td>1.773209</td>\n",
       "      <td>0.379780</td>\n",
       "      <td>-0.503198</td>\n",
       "      <td>1.800499</td>\n",
       "      <td>0.791461</td>\n",
       "      <td>0.247676</td>\n",
       "      <td>-1.514654</td>\n",
       "      <td>...</td>\n",
       "      <td>0.247998</td>\n",
       "      <td>0.771679</td>\n",
       "      <td>0.909412</td>\n",
       "      <td>-0.689281</td>\n",
       "      <td>-0.327642</td>\n",
       "      <td>-0.139097</td>\n",
       "      <td>-0.055353</td>\n",
       "      <td>-0.059752</td>\n",
       "      <td>378.66</td>\n",
       "      <td>0</td>\n",
       "    </tr>\n",
       "    <tr>\n",
       "      <th>3</th>\n",
       "      <td>1.0</td>\n",
       "      <td>-0.966272</td>\n",
       "      <td>-0.185226</td>\n",
       "      <td>1.792993</td>\n",
       "      <td>-0.863291</td>\n",
       "      <td>-0.010309</td>\n",
       "      <td>1.247203</td>\n",
       "      <td>0.237609</td>\n",
       "      <td>0.377436</td>\n",
       "      <td>-1.387024</td>\n",
       "      <td>...</td>\n",
       "      <td>-0.108300</td>\n",
       "      <td>0.005274</td>\n",
       "      <td>-0.190321</td>\n",
       "      <td>-1.175575</td>\n",
       "      <td>0.647376</td>\n",
       "      <td>-0.221929</td>\n",
       "      <td>0.062723</td>\n",
       "      <td>0.061458</td>\n",
       "      <td>123.50</td>\n",
       "      <td>0</td>\n",
       "    </tr>\n",
       "    <tr>\n",
       "      <th>4</th>\n",
       "      <td>2.0</td>\n",
       "      <td>-1.158233</td>\n",
       "      <td>0.877737</td>\n",
       "      <td>1.548718</td>\n",
       "      <td>0.403034</td>\n",
       "      <td>-0.407193</td>\n",
       "      <td>0.095921</td>\n",
       "      <td>0.592941</td>\n",
       "      <td>-0.270533</td>\n",
       "      <td>0.817739</td>\n",
       "      <td>...</td>\n",
       "      <td>-0.009431</td>\n",
       "      <td>0.798278</td>\n",
       "      <td>-0.137458</td>\n",
       "      <td>0.141267</td>\n",
       "      <td>-0.206010</td>\n",
       "      <td>0.502292</td>\n",
       "      <td>0.219422</td>\n",
       "      <td>0.215153</td>\n",
       "      <td>69.99</td>\n",
       "      <td>0</td>\n",
       "    </tr>\n",
       "  </tbody>\n",
       "</table>\n",
       "<p>5 rows × 31 columns</p>\n",
       "</div>"
      ],
      "text/plain": [
       "   Time        V1        V2        V3        V4        V5        V6        V7  \\\n",
       "0   0.0 -1.359807 -0.072781  2.536347  1.378155 -0.338321  0.462388  0.239599   \n",
       "1   0.0  1.191857  0.266151  0.166480  0.448154  0.060018 -0.082361 -0.078803   \n",
       "2   1.0 -1.358354 -1.340163  1.773209  0.379780 -0.503198  1.800499  0.791461   \n",
       "3   1.0 -0.966272 -0.185226  1.792993 -0.863291 -0.010309  1.247203  0.237609   \n",
       "4   2.0 -1.158233  0.877737  1.548718  0.403034 -0.407193  0.095921  0.592941   \n",
       "\n",
       "         V8        V9  ...       V21       V22       V23       V24       V25  \\\n",
       "0  0.098698  0.363787  ... -0.018307  0.277838 -0.110474  0.066928  0.128539   \n",
       "1  0.085102 -0.255425  ... -0.225775 -0.638672  0.101288 -0.339846  0.167170   \n",
       "2  0.247676 -1.514654  ...  0.247998  0.771679  0.909412 -0.689281 -0.327642   \n",
       "3  0.377436 -1.387024  ... -0.108300  0.005274 -0.190321 -1.175575  0.647376   \n",
       "4 -0.270533  0.817739  ... -0.009431  0.798278 -0.137458  0.141267 -0.206010   \n",
       "\n",
       "        V26       V27       V28  Amount  Class  \n",
       "0 -0.189115  0.133558 -0.021053  149.62      0  \n",
       "1  0.125895 -0.008983  0.014724    2.69      0  \n",
       "2 -0.139097 -0.055353 -0.059752  378.66      0  \n",
       "3 -0.221929  0.062723  0.061458  123.50      0  \n",
       "4  0.502292  0.219422  0.215153   69.99      0  \n",
       "\n",
       "[5 rows x 31 columns]"
      ]
     },
     "execution_count": 4,
     "metadata": {},
     "output_type": "execute_result"
    }
   ],
   "source": [
    "df.head()"
   ]
  },
  {
   "cell_type": "code",
   "execution_count": 5,
   "metadata": {},
   "outputs": [
    {
     "name": "stdout",
     "output_type": "stream",
     "text": [
      "<class 'pandas.core.frame.DataFrame'>\n",
      "RangeIndex: 284807 entries, 0 to 284806\n",
      "Data columns (total 31 columns):\n",
      " #   Column  Non-Null Count   Dtype  \n",
      "---  ------  --------------   -----  \n",
      " 0   Time    284807 non-null  float64\n",
      " 1   V1      284807 non-null  float64\n",
      " 2   V2      284807 non-null  float64\n",
      " 3   V3      284807 non-null  float64\n",
      " 4   V4      284807 non-null  float64\n",
      " 5   V5      284807 non-null  float64\n",
      " 6   V6      284807 non-null  float64\n",
      " 7   V7      284807 non-null  float64\n",
      " 8   V8      284807 non-null  float64\n",
      " 9   V9      284807 non-null  float64\n",
      " 10  V10     284807 non-null  float64\n",
      " 11  V11     284807 non-null  float64\n",
      " 12  V12     284807 non-null  float64\n",
      " 13  V13     284807 non-null  float64\n",
      " 14  V14     284807 non-null  float64\n",
      " 15  V15     284807 non-null  float64\n",
      " 16  V16     284807 non-null  float64\n",
      " 17  V17     284807 non-null  float64\n",
      " 18  V18     284807 non-null  float64\n",
      " 19  V19     284807 non-null  float64\n",
      " 20  V20     284807 non-null  float64\n",
      " 21  V21     284807 non-null  float64\n",
      " 22  V22     284807 non-null  float64\n",
      " 23  V23     284807 non-null  float64\n",
      " 24  V24     284807 non-null  float64\n",
      " 25  V25     284807 non-null  float64\n",
      " 26  V26     284807 non-null  float64\n",
      " 27  V27     284807 non-null  float64\n",
      " 28  V28     284807 non-null  float64\n",
      " 29  Amount  284807 non-null  float64\n",
      " 30  Class   284807 non-null  int64  \n",
      "dtypes: float64(30), int64(1)\n",
      "memory usage: 67.4 MB\n"
     ]
    }
   ],
   "source": [
    "df.info()"
   ]
  },
  {
   "cell_type": "code",
   "execution_count": 6,
   "metadata": {},
   "outputs": [
    {
     "data": {
      "text/plain": [
       "Time      0\n",
       "V1        0\n",
       "V2        0\n",
       "V3        0\n",
       "V4        0\n",
       "V5        0\n",
       "V6        0\n",
       "V7        0\n",
       "V8        0\n",
       "V9        0\n",
       "V10       0\n",
       "V11       0\n",
       "V12       0\n",
       "V13       0\n",
       "V14       0\n",
       "V15       0\n",
       "V16       0\n",
       "V17       0\n",
       "V18       0\n",
       "V19       0\n",
       "V20       0\n",
       "V21       0\n",
       "V22       0\n",
       "V23       0\n",
       "V24       0\n",
       "V25       0\n",
       "V26       0\n",
       "V27       0\n",
       "V28       0\n",
       "Amount    0\n",
       "Class     0\n",
       "dtype: int64"
      ]
     },
     "execution_count": 6,
     "metadata": {},
     "output_type": "execute_result"
    }
   ],
   "source": [
    "df.isnull().sum()"
   ]
  },
  {
   "cell_type": "code",
   "execution_count": 7,
   "metadata": {},
   "outputs": [],
   "source": [
    "def preprocess_data(data):\n",
    "    data = data.drop(['Time'], axis=1)\n",
    "    data['Amount'] = StandardScaler().fit_transform(data['Amount'].values.reshape(-1,1))\n",
    "    return data"
   ]
  },
  {
   "cell_type": "code",
   "execution_count": 8,
   "metadata": {},
   "outputs": [],
   "source": [
    "data = preprocess_data(df)"
   ]
  },
  {
   "cell_type": "code",
   "execution_count": 9,
   "metadata": {},
   "outputs": [],
   "source": [
    "def get_train_and_test_data(processed_data):\n",
    "    X_train, X_test = train_test_split(processed_data, test_size=0.25,random_state=0)\n",
    "    X_train = X_train[X_train.Class == 0]\n",
    "    X_train = X_train.drop(['Class'], axis=1)\n",
    "    y_test = X_test['Class']\n",
    "    X_test = X_test.drop(['Class'], axis=1)\n",
    "    X_train = X_train.values\n",
    "    X_test = X_test.values\n",
    "    return X_train, X_test,y_test\n"
   ]
  },
  {
   "cell_type": "code",
   "execution_count": 10,
   "metadata": {},
   "outputs": [],
   "source": [
    "X_train, X_test,y_test = get_train_and_test_data(data)"
   ]
  },
  {
   "cell_type": "code",
   "execution_count": 20,
   "metadata": {},
   "outputs": [
    {
     "data": {
      "text/plain": [
       "((213233, 29), (71202, 29), (71202,))"
      ]
     },
     "execution_count": 20,
     "metadata": {},
     "output_type": "execute_result"
    }
   ],
   "source": [
    "X_train.shape, X_test.shape,y_test.shape"
   ]
  },
  {
   "cell_type": "code",
   "execution_count": 11,
   "metadata": {},
   "outputs": [],
   "source": [
    "\n",
    "input = layers.Input(shape=(X_train.shape[1],))\n",
    "layer_encoder = layers.Dense(14, activation=\"tanh\",activity_regularizer=keras.regularizers.l1(10e-5))(input)\n",
    "layer_encoder = layers.Dense(7,activation=\"relu\")(layer_encoder)\n",
    "layer_decoder = layers.Dense(7,activation='tanh')(layer_encoder)\n",
    "layer_decoder = layers.Dense(X_train.shape[1], activation='relu')(layer_decoder)\n",
    "autoencoder = keras.Model(inputs=input, outputs=layer_decoder)"
   ]
  },
  {
   "cell_type": "code",
   "execution_count": 12,
   "metadata": {},
   "outputs": [],
   "source": [
    "autoencoder.compile(optimizer='adam',loss='mean_squared_error', metrics=['accuracy'])\n",
    "\n",
    "checkpoint = keras.callbacks.ModelCheckpoint(filepath=os.path.join(MODEL_SAVE_DIR,\n",
    "\"trained_model.h5\"), verbose=0, save_best_only=True)\n",
    "\n",
    "log_tensorboard = keras.callbacks.TensorBoard(log_dir='./logs', histogram_freq=0, write_graph=True,\n",
    "                                write_images=True)"
   ]
  },
  {
   "cell_type": "code",
   "execution_count": 13,
   "metadata": {},
   "outputs": [
    {
     "name": "stdout",
     "output_type": "stream",
     "text": [
      "Epoch 1/100\n",
      "6664/6664 [==============================] - 13s 2ms/step - loss: 0.8007 - accuracy: 0.5825 - val_loss: 0.7923 - val_accuracy: 0.6497\n",
      "Epoch 2/100\n",
      "6664/6664 [==============================] - 13s 2ms/step - loss: 0.7292 - accuracy: 0.6661 - val_loss: 0.7707 - val_accuracy: 0.6705\n",
      "Epoch 3/100\n",
      "6664/6664 [==============================] - 13s 2ms/step - loss: 0.7151 - accuracy: 0.6787 - val_loss: 0.7597 - val_accuracy: 0.6843\n",
      "Epoch 4/100\n",
      "6664/6664 [==============================] - 12s 2ms/step - loss: 0.7084 - accuracy: 0.6833 - val_loss: 0.7555 - val_accuracy: 0.6841\n",
      "Epoch 5/100\n",
      "6664/6664 [==============================] - 12s 2ms/step - loss: 0.7041 - accuracy: 0.6883 - val_loss: 0.7540 - val_accuracy: 0.6921\n",
      "Epoch 6/100\n",
      "6664/6664 [==============================] - 13s 2ms/step - loss: 0.7016 - accuracy: 0.6955 - val_loss: 0.7495 - val_accuracy: 0.6998\n",
      "Epoch 7/100\n",
      "6664/6664 [==============================] - 12s 2ms/step - loss: 0.6997 - accuracy: 0.7016 - val_loss: 0.7529 - val_accuracy: 0.7023\n",
      "Epoch 8/100\n",
      "6664/6664 [==============================] - 12s 2ms/step - loss: 0.6984 - accuracy: 0.7042 - val_loss: 0.7471 - val_accuracy: 0.7029\n",
      "Epoch 9/100\n",
      "6664/6664 [==============================] - 12s 2ms/step - loss: 0.6969 - accuracy: 0.7063 - val_loss: 0.7484 - val_accuracy: 0.7126\n",
      "Epoch 10/100\n",
      "6664/6664 [==============================] - 12s 2ms/step - loss: 0.6958 - accuracy: 0.7070 - val_loss: 0.7451 - val_accuracy: 0.7051\n",
      "Epoch 11/100\n",
      "6664/6664 [==============================] - 13s 2ms/step - loss: 0.6948 - accuracy: 0.7091 - val_loss: 0.7451 - val_accuracy: 0.7099\n",
      "Epoch 12/100\n",
      "6664/6664 [==============================] - 13s 2ms/step - loss: 0.6938 - accuracy: 0.7106 - val_loss: 0.7420 - val_accuracy: 0.7146\n",
      "Epoch 13/100\n",
      "6664/6664 [==============================] - 12s 2ms/step - loss: 0.6925 - accuracy: 0.7131 - val_loss: 0.7439 - val_accuracy: 0.7077\n",
      "Epoch 14/100\n",
      "6664/6664 [==============================] - 12s 2ms/step - loss: 0.6917 - accuracy: 0.7137 - val_loss: 0.7431 - val_accuracy: 0.7126\n",
      "Epoch 15/100\n",
      "6664/6664 [==============================] - 12s 2ms/step - loss: 0.6909 - accuracy: 0.7143 - val_loss: 0.7406 - val_accuracy: 0.7144\n",
      "Epoch 16/100\n",
      "6664/6664 [==============================] - 12s 2ms/step - loss: 0.6904 - accuracy: 0.7132 - val_loss: 0.7411 - val_accuracy: 0.7040\n",
      "Epoch 17/100\n",
      "6664/6664 [==============================] - 12s 2ms/step - loss: 0.6895 - accuracy: 0.7120 - val_loss: 0.7388 - val_accuracy: 0.7135\n",
      "Epoch 18/100\n",
      "6664/6664 [==============================] - 12s 2ms/step - loss: 0.6892 - accuracy: 0.7119 - val_loss: 0.7389 - val_accuracy: 0.7137\n",
      "Epoch 19/100\n",
      "6664/6664 [==============================] - 13s 2ms/step - loss: 0.6888 - accuracy: 0.7115 - val_loss: 0.7395 - val_accuracy: 0.7112\n",
      "Epoch 20/100\n",
      "6664/6664 [==============================] - 12s 2ms/step - loss: 0.6885 - accuracy: 0.7114 - val_loss: 0.7391 - val_accuracy: 0.7139\n",
      "Epoch 21/100\n",
      "6664/6664 [==============================] - 12s 2ms/step - loss: 0.6885 - accuracy: 0.7100 - val_loss: 0.7378 - val_accuracy: 0.7090\n",
      "Epoch 22/100\n",
      "6664/6664 [==============================] - 13s 2ms/step - loss: 0.6880 - accuracy: 0.7109 - val_loss: 0.7388 - val_accuracy: 0.7100\n",
      "Epoch 23/100\n",
      "6664/6664 [==============================] - 12s 2ms/step - loss: 0.6883 - accuracy: 0.7097 - val_loss: 0.7379 - val_accuracy: 0.7090\n",
      "Epoch 24/100\n",
      "6664/6664 [==============================] - 12s 2ms/step - loss: 0.6879 - accuracy: 0.7088 - val_loss: 0.7391 - val_accuracy: 0.7058\n",
      "Epoch 25/100\n",
      "6664/6664 [==============================] - 14s 2ms/step - loss: 0.6877 - accuracy: 0.7091 - val_loss: 0.7380 - val_accuracy: 0.7110\n",
      "Epoch 26/100\n",
      "6664/6664 [==============================] - 13s 2ms/step - loss: 0.6879 - accuracy: 0.7078 - val_loss: 0.7362 - val_accuracy: 0.7090\n",
      "Epoch 27/100\n",
      "6664/6664 [==============================] - 13s 2ms/step - loss: 0.6873 - accuracy: 0.7079 - val_loss: 0.7371 - val_accuracy: 0.7118\n",
      "Epoch 28/100\n",
      "6664/6664 [==============================] - 12s 2ms/step - loss: 0.6874 - accuracy: 0.7083 - val_loss: 0.7380 - val_accuracy: 0.7150\n",
      "Epoch 29/100\n",
      "6664/6664 [==============================] - 13s 2ms/step - loss: 0.6872 - accuracy: 0.7086 - val_loss: 0.7367 - val_accuracy: 0.7107\n",
      "Epoch 30/100\n",
      "6664/6664 [==============================] - 13s 2ms/step - loss: 0.6869 - accuracy: 0.7083 - val_loss: 0.7363 - val_accuracy: 0.7087\n",
      "Epoch 31/100\n",
      "6664/6664 [==============================] - 13s 2ms/step - loss: 0.6873 - accuracy: 0.7074 - val_loss: 0.7365 - val_accuracy: 0.7103\n",
      "Epoch 32/100\n",
      "6664/6664 [==============================] - 12s 2ms/step - loss: 0.6868 - accuracy: 0.7087 - val_loss: 0.7370 - val_accuracy: 0.7080\n",
      "Epoch 33/100\n",
      "6664/6664 [==============================] - 12s 2ms/step - loss: 0.6865 - accuracy: 0.7087 - val_loss: 0.7369 - val_accuracy: 0.7102\n",
      "Epoch 34/100\n",
      "6664/6664 [==============================] - 12s 2ms/step - loss: 0.6865 - accuracy: 0.7084 - val_loss: 0.7375 - val_accuracy: 0.7106\n",
      "Epoch 35/100\n",
      "6664/6664 [==============================] - 12s 2ms/step - loss: 0.6862 - accuracy: 0.7082 - val_loss: 0.7365 - val_accuracy: 0.7087\n",
      "Epoch 36/100\n",
      "6664/6664 [==============================] - 13s 2ms/step - loss: 0.6863 - accuracy: 0.7093 - val_loss: 0.7360 - val_accuracy: 0.7092\n",
      "Epoch 37/100\n",
      "6664/6664 [==============================] - 13s 2ms/step - loss: 0.6860 - accuracy: 0.7096 - val_loss: 0.7355 - val_accuracy: 0.7128\n",
      "Epoch 38/100\n",
      "6664/6664 [==============================] - 13s 2ms/step - loss: 0.6860 - accuracy: 0.7088 - val_loss: 0.7356 - val_accuracy: 0.7091\n",
      "Epoch 39/100\n",
      "6664/6664 [==============================] - 13s 2ms/step - loss: 0.6860 - accuracy: 0.7101 - val_loss: 0.7355 - val_accuracy: 0.7161\n",
      "Epoch 40/100\n",
      "6664/6664 [==============================] - 13s 2ms/step - loss: 0.6856 - accuracy: 0.7103 - val_loss: 0.7351 - val_accuracy: 0.7102\n",
      "Epoch 41/100\n",
      "6664/6664 [==============================] - 13s 2ms/step - loss: 0.6856 - accuracy: 0.7093 - val_loss: 0.7359 - val_accuracy: 0.7109\n",
      "Epoch 42/100\n",
      "6664/6664 [==============================] - 13s 2ms/step - loss: 0.6858 - accuracy: 0.7090 - val_loss: 0.7364 - val_accuracy: 0.7120\n",
      "Epoch 43/100\n",
      "6664/6664 [==============================] - 12s 2ms/step - loss: 0.6854 - accuracy: 0.7093 - val_loss: 0.7341 - val_accuracy: 0.7120\n",
      "Epoch 44/100\n",
      "6664/6664 [==============================] - 13s 2ms/step - loss: 0.6854 - accuracy: 0.7096 - val_loss: 0.7355 - val_accuracy: 0.6989\n",
      "Epoch 45/100\n",
      "6664/6664 [==============================] - 12s 2ms/step - loss: 0.6854 - accuracy: 0.7092 - val_loss: 0.7365 - val_accuracy: 0.7026\n",
      "Epoch 46/100\n",
      "6664/6664 [==============================] - 13s 2ms/step - loss: 0.6853 - accuracy: 0.7096 - val_loss: 0.7341 - val_accuracy: 0.7108\n",
      "Epoch 47/100\n",
      "6664/6664 [==============================] - 13s 2ms/step - loss: 0.6849 - accuracy: 0.7094 - val_loss: 0.7352 - val_accuracy: 0.7108\n",
      "Epoch 48/100\n",
      "6664/6664 [==============================] - 12s 2ms/step - loss: 0.6852 - accuracy: 0.7094 - val_loss: 0.7354 - val_accuracy: 0.7116\n",
      "Epoch 49/100\n",
      "6664/6664 [==============================] - 13s 2ms/step - loss: 0.6850 - accuracy: 0.7094 - val_loss: 0.7340 - val_accuracy: 0.7163\n",
      "Epoch 50/100\n",
      "6664/6664 [==============================] - 13s 2ms/step - loss: 0.6851 - accuracy: 0.7095 - val_loss: 0.7358 - val_accuracy: 0.7156\n",
      "Epoch 51/100\n",
      "6664/6664 [==============================] - 13s 2ms/step - loss: 0.6852 - accuracy: 0.7086 - val_loss: 0.7334 - val_accuracy: 0.7094\n",
      "Epoch 52/100\n",
      "6664/6664 [==============================] - 13s 2ms/step - loss: 0.6849 - accuracy: 0.7099 - val_loss: 0.7348 - val_accuracy: 0.7088\n",
      "Epoch 53/100\n",
      "6664/6664 [==============================] - 13s 2ms/step - loss: 0.6851 - accuracy: 0.7084 - val_loss: 0.7355 - val_accuracy: 0.7079\n",
      "Epoch 54/100\n",
      "6664/6664 [==============================] - 12s 2ms/step - loss: 0.6848 - accuracy: 0.7093 - val_loss: 0.7344 - val_accuracy: 0.7081\n",
      "Epoch 55/100\n",
      "6664/6664 [==============================] - 12s 2ms/step - loss: 0.6848 - accuracy: 0.7083 - val_loss: 0.7341 - val_accuracy: 0.7088\n",
      "Epoch 56/100\n",
      "6664/6664 [==============================] - 12s 2ms/step - loss: 0.6846 - accuracy: 0.7083 - val_loss: 0.7372 - val_accuracy: 0.6982\n",
      "Epoch 57/100\n",
      "6664/6664 [==============================] - 12s 2ms/step - loss: 0.6847 - accuracy: 0.7085 - val_loss: 0.7351 - val_accuracy: 0.7076\n",
      "Epoch 58/100\n",
      "6664/6664 [==============================] - 12s 2ms/step - loss: 0.6846 - accuracy: 0.7080 - val_loss: 0.7345 - val_accuracy: 0.7082\n",
      "Epoch 59/100\n",
      "6664/6664 [==============================] - 12s 2ms/step - loss: 0.6846 - accuracy: 0.7077 - val_loss: 0.7338 - val_accuracy: 0.7095\n",
      "Epoch 60/100\n",
      "6664/6664 [==============================] - 12s 2ms/step - loss: 0.6843 - accuracy: 0.7075 - val_loss: 0.7333 - val_accuracy: 0.7085\n",
      "Epoch 61/100\n",
      "6664/6664 [==============================] - 12s 2ms/step - loss: 0.6845 - accuracy: 0.7084 - val_loss: 0.7348 - val_accuracy: 0.7135\n",
      "Epoch 62/100\n",
      "6664/6664 [==============================] - 13s 2ms/step - loss: 0.6846 - accuracy: 0.7066 - val_loss: 0.7333 - val_accuracy: 0.7117\n",
      "Epoch 63/100\n",
      "6664/6664 [==============================] - 12s 2ms/step - loss: 0.6846 - accuracy: 0.7072 - val_loss: 0.7340 - val_accuracy: 0.7093\n",
      "Epoch 64/100\n",
      "6664/6664 [==============================] - 12s 2ms/step - loss: 0.6845 - accuracy: 0.7074 - val_loss: 0.7373 - val_accuracy: 0.7056\n",
      "Epoch 65/100\n",
      "6664/6664 [==============================] - 12s 2ms/step - loss: 0.6843 - accuracy: 0.7077 - val_loss: 0.7346 - val_accuracy: 0.7091 1s - loss: 0.6897 -  - ETA: 1s - l - ETA: 0s - los\n",
      "Epoch 66/100\n",
      "6664/6664 [==============================] - 12s 2ms/step - loss: 0.6841 - accuracy: 0.7071 - val_loss: 0.7366 - val_accuracy: 0.7089\n",
      "Epoch 67/100\n",
      "6664/6664 [==============================] - 12s 2ms/step - loss: 0.6843 - accuracy: 0.7074 - val_loss: 0.7324 - val_accuracy: 0.7131\n",
      "Epoch 68/100\n",
      "6664/6664 [==============================] - 13s 2ms/step - loss: 0.6844 - accuracy: 0.7075 - val_loss: 0.7332 - val_accuracy: 0.7151\n",
      "Epoch 69/100\n",
      "6664/6664 [==============================] - 12s 2ms/step - loss: 0.6843 - accuracy: 0.7081 - val_loss: 0.7347 - val_accuracy: 0.7074\n",
      "Epoch 70/100\n",
      "6664/6664 [==============================] - 12s 2ms/step - loss: 0.6844 - accuracy: 0.7070 - val_loss: 0.7337 - val_accuracy: 0.7060\n",
      "Epoch 71/100\n",
      "6664/6664 [==============================] - 12s 2ms/step - loss: 0.6841 - accuracy: 0.7075 - val_loss: 0.7354 - val_accuracy: 0.6999\n",
      "Epoch 72/100\n",
      "6664/6664 [==============================] - 13s 2ms/step - loss: 0.6842 - accuracy: 0.7070 - val_loss: 0.7341 - val_accuracy: 0.7106\n",
      "Epoch 73/100\n",
      "6664/6664 [==============================] - 12s 2ms/step - loss: 0.6840 - accuracy: 0.7075 - val_loss: 0.7347 - val_accuracy: 0.7051\n",
      "Epoch 74/100\n",
      "6664/6664 [==============================] - 12s 2ms/step - loss: 0.6844 - accuracy: 0.7063 - val_loss: 0.7333 - val_accuracy: 0.7096\n",
      "Epoch 75/100\n",
      "6664/6664 [==============================] - 12s 2ms/step - loss: 0.6838 - accuracy: 0.7076 - val_loss: 0.7336 - val_accuracy: 0.7019\n",
      "Epoch 76/100\n",
      "6664/6664 [==============================] - 12s 2ms/step - loss: 0.6841 - accuracy: 0.7079 - val_loss: 0.7356 - val_accuracy: 0.7065\n",
      "Epoch 77/100\n",
      "6664/6664 [==============================] - 12s 2ms/step - loss: 0.6842 - accuracy: 0.7066 - val_loss: 0.7323 - val_accuracy: 0.7055\n",
      "Epoch 78/100\n",
      "6664/6664 [==============================] - 12s 2ms/step - loss: 0.6842 - accuracy: 0.7066 - val_loss: 0.7348 - val_accuracy: 0.7013\n",
      "Epoch 79/100\n",
      "6664/6664 [==============================] - 12s 2ms/step - loss: 0.6841 - accuracy: 0.7062 - val_loss: 0.7338 - val_accuracy: 0.7096\n",
      "Epoch 80/100\n",
      "6664/6664 [==============================] - 12s 2ms/step - loss: 0.6839 - accuracy: 0.7067 - val_loss: 0.7333 - val_accuracy: 0.7118\n",
      "Epoch 81/100\n",
      "6664/6664 [==============================] - 12s 2ms/step - loss: 0.6839 - accuracy: 0.7061 - val_loss: 0.7328 - val_accuracy: 0.7037\n",
      "Epoch 82/100\n",
      "6664/6664 [==============================] - 12s 2ms/step - loss: 0.6840 - accuracy: 0.7068 - val_loss: 0.7329 - val_accuracy: 0.7129\n",
      "Epoch 83/100\n",
      "6664/6664 [==============================] - 12s 2ms/step - loss: 0.6840 - accuracy: 0.7061 - val_loss: 0.7338 - val_accuracy: 0.7088\n",
      "Epoch 84/100\n",
      "6664/6664 [==============================] - 12s 2ms/step - loss: 0.6838 - accuracy: 0.7064 - val_loss: 0.7332 - val_accuracy: 0.7064\n",
      "Epoch 85/100\n",
      "6664/6664 [==============================] - 12s 2ms/step - loss: 0.6840 - accuracy: 0.7061 - val_loss: 0.7339 - val_accuracy: 0.7079\n",
      "Epoch 86/100\n",
      "6664/6664 [==============================] - 12s 2ms/step - loss: 0.6840 - accuracy: 0.7057 - val_loss: 0.7324 - val_accuracy: 0.7068\n",
      "Epoch 87/100\n",
      "6664/6664 [==============================] - 12s 2ms/step - loss: 0.6838 - accuracy: 0.7061 - val_loss: 0.7336 - val_accuracy: 0.7058\n",
      "Epoch 88/100\n",
      "6664/6664 [==============================] - 12s 2ms/step - loss: 0.6839 - accuracy: 0.7059 - val_loss: 0.7329 - val_accuracy: 0.7030\n",
      "Epoch 89/100\n",
      "6664/6664 [==============================] - 12s 2ms/step - loss: 0.6839 - accuracy: 0.7066 - val_loss: 0.7352 - val_accuracy: 0.7041\n",
      "Epoch 90/100\n",
      "6664/6664 [==============================] - 12s 2ms/step - loss: 0.6838 - accuracy: 0.7054 - val_loss: 0.7332 - val_accuracy: 0.7086- ETA: 0s - loss: 0.6838 - accuracy: 0.70\n",
      "Epoch 91/100\n",
      "6664/6664 [==============================] - 12s 2ms/step - loss: 0.6839 - accuracy: 0.7060 - val_loss: 0.7329 - val_accuracy: 0.7116\n",
      "Epoch 92/100\n",
      "6664/6664 [==============================] - 12s 2ms/step - loss: 0.6839 - accuracy: 0.7061 - val_loss: 0.7323 - val_accuracy: 0.7073\n",
      "Epoch 93/100\n",
      "6664/6664 [==============================] - 12s 2ms/step - loss: 0.6837 - accuracy: 0.7060 - val_loss: 0.7333 - val_accuracy: 0.7122\n",
      "Epoch 94/100\n",
      "6664/6664 [==============================] - 12s 2ms/step - loss: 0.6837 - accuracy: 0.7058 - val_loss: 0.7320 - val_accuracy: 0.7057\n",
      "Epoch 95/100\n",
      "6664/6664 [==============================] - 12s 2ms/step - loss: 0.6837 - accuracy: 0.7051 - val_loss: 0.7333 - val_accuracy: 0.7077\n",
      "Epoch 96/100\n",
      "6664/6664 [==============================] - 12s 2ms/step - loss: 0.6839 - accuracy: 0.7067 - val_loss: 0.7329 - val_accuracy: 0.7030\n",
      "Epoch 97/100\n",
      "6664/6664 [==============================] - 12s 2ms/step - loss: 0.6836 - accuracy: 0.7053 - val_loss: 0.7326 - val_accuracy: 0.7072\n",
      "Epoch 98/100\n",
      "6664/6664 [==============================] - 12s 2ms/step - loss: 0.6835 - accuracy: 0.7056 - val_loss: 0.7367 - val_accuracy: 0.6967\n",
      "Epoch 99/100\n",
      "6664/6664 [==============================] - 12s 2ms/step - loss: 0.6837 - accuracy: 0.7055 - val_loss: 0.7321 - val_accuracy: 0.7075\n",
      "Epoch 100/100\n",
      "6664/6664 [==============================] - 12s 2ms/step - loss: 0.6837 - accuracy: 0.7051 - val_loss: 0.7329 - val_accuracy: 0.7062\n"
     ]
    }
   ],
   "source": [
    "EPOCHS = 100\n",
    "BATCH_SIZE = 32\n",
    "history = autoencoder.fit(X_train, X_train, epochs=EPOCHS, batch_size=BATCH_SIZE,\n",
    "                shuffle=True, validation_data=(X_test, X_test),verbose=1,\n",
    "                callbacks=[checkpoint, log_tensorboard])"
   ]
  },
  {
   "cell_type": "code",
   "execution_count": 15,
   "metadata": {},
   "outputs": [
    {
     "data": {
      "image/png": "[encoded data removed]",
      "text/plain": [
       "<Figure size 864x432 with 1 Axes>"
      ]
     },
     "metadata": {
      "needs_background": "light"
     },
     "output_type": "display_data"
    }
   ],
   "source": [
    "fig = plt.figure(num=\"Loss Curves\")\n",
    "fig.set_size_inches(12, 6)\n",
    "plt.plot(history.history['loss'])\n",
    "plt.plot(history.history['val_loss'])\n",
    "plt.title('Loss By Epoch')\n",
    "plt.ylabel('Loss')\n",
    "plt.xlabel('Epoch Num')\n",
    "plt.legend(['Train_Data', 'Test_Data'], loc='upper right')\n",
    "plt.grid(True, alpha=.25)\n",
    "plt.tight_layout()"
   ]
  },
  {
   "cell_type": "code",
   "execution_count": 16,
   "metadata": {},
   "outputs": [],
   "source": [
    "trained_model = keras.models.load_model(os.path.join(MODEL_SAVE_DIR,'trained_model.h5'))"
   ]
  },
  {
   "cell_type": "code",
   "execution_count": 17,
   "metadata": {},
   "outputs": [],
   "source": [
    "test_predictions = trained_model.predict(X_test)"
   ]
  },
  {
   "cell_type": "code",
   "execution_count": 19,
   "metadata": {},
   "outputs": [
    {
     "data": {
      "text/plain": [
       "(71202, 29)"
      ]
     },
     "execution_count": 19,
     "metadata": {},
     "output_type": "execute_result"
    }
   ],
   "source": [
    "test_predictions.shape"
   ]
  },
  {
   "cell_type": "code",
   "execution_count": 21,
   "metadata": {},
   "outputs": [],
   "source": [
    "\n",
    "mse = np.mean(np.power(X_test - test_predictions, 2), axis=1)\n",
    "reconstruction_error = pd.DataFrame({'recon_error': mse,\n",
    "                                 'true_class': y_test})"
   ]
  },
  {
   "cell_type": "code",
   "execution_count": 39,
   "metadata": {},
   "outputs": [
    {
     "data": {
      "image/png": "[encoded data removed]",
      "text/plain": [
       "<Figure size 1440x1440 with 2 Axes>"
      ]
     },
     "metadata": {
      "needs_background": "light"
     },
     "output_type": "display_data"
    }
   ],
   "source": [
    "fig , (ax1, ax2) = plt.subplots(2,1,figsize = (20,20))\n",
    "sns.histplot(data = reconstruction_error[y_test == 1],x= 'recon_error',bins = 20,ax = ax1)\n",
    "ax1.set_title(\"Recon Error with Fraud Transactions\")\n",
    "ax1.set_ylabel('No. of Samples')\n",
    "sns.histplot(data = reconstruction_error[y_test == 0],x= 'recon_error',bins = 500,ax = ax2)\n",
    "ax2.set_title(\"Recon Error with Normal Transactions\")\n",
    "ax2.set_ylabel('No. of Samples')\n",
    "ax2.set_xlim(-1,50)\n",
    "plt.show()"
   ]
  },
  {
   "cell_type": "code",
   "execution_count": 43,
   "metadata": {},
   "outputs": [
    {
     "data": {
      "image/png": "[encoded data removed]",
      "text/plain": [
       "<Figure size 864x432 with 1 Axes>"
      ]
     },
     "metadata": {
      "needs_background": "light"
     },
     "output_type": "display_data"
    }
   ],
   "source": [
    "precision, recall, threshold = precision_recall_curve(reconstruction_error.true_class,reconstruction_error.recon_error)\n",
    "# Plotting the precision curve\n",
    "fig = plt.figure(num =\"Precision Curve\")\n",
    "fig.set_size_inches(12, 6)\n",
    "plt.plot(threshold, precision[1:], 'g', label='Precision curve')\n",
    "plt.title('Precision / Recall  By Recon Error Threshold Values')\n",
    "plt.xlabel('Threshold')\n",
    "plt.ylabel('Precision / Recall')\n",
    "plt.xlim(0,200)\n",
    "plt.tight_layout()\n",
    "image_name = 'Precision_Threshold_Curve.png'\n",
    "fig.savefig(os.path.join(PLOTS_DIR, image_name), dpi=fig.dpi)\n",
    "\n",
    "plt.plot(threshold, recall[1:], 'b', label='Recall curve')\n",
    "image_name = 'Recall_Threshold_Curve.png'\n",
    "fig.savefig(os.path.join(PLOTS_DIR, image_name), dpi=fig.dpi)\n",
    "plt.legend()\n",
    "\n",
    "plt.show()\n"
   ]
  },
  {
   "cell_type": "code",
   "execution_count": 62,
   "metadata": {},
   "outputs": [
    {
     "data": {
      "text/plain": [
       "4.072859271931941"
      ]
     },
     "execution_count": 62,
     "metadata": {},
     "output_type": "execute_result"
    }
   ],
   "source": [
    "idx = list(filter(lambda x: x[1] > min_recall, enumerate(recall[1:])))[-1][0]\n",
    "threshold[idx]"
   ]
  },
  {
   "cell_type": "code",
   "execution_count": 64,
   "metadata": {},
   "outputs": [
    {
     "name": "stdout",
     "output_type": "stream",
     "text": [
      "Min recall is : 0.808333, Threshold for recon error is: 4.072859 \n"
     ]
    },
    {
     "data": {
      "image/png": "[encoded data removed]",
      "text/plain": [
       "<Figure size 864x864 with 2 Axes>"
      ]
     },
     "metadata": {
      "needs_background": "light"
     },
     "output_type": "display_data"
    }
   ],
   "source": [
    " # Get the confusion matrix with min desired recall on the testing dataset used.\n",
    "min_recall = 0.8\n",
    "\n",
    "precision, recall, threshold = precision_recall_curve(reconstruction_error.true_class,reconstruction_error.recon_error)\n",
    "idx = list(filter(lambda x: x[1] > min_recall, enumerate(recall[1:])))[-1][0]\n",
    "th = threshold[idx]\n",
    "print (\"Min recall is : %f, Threshold for recon error is: %f \" %(recall[idx+1], th))\n",
    "\n",
    "# Get the confusion matrix\n",
    "predicted_class = [1 if e > th else 0 for e in reconstruction_error.recon_error.values]\n",
    "cnf_matrix = confusion_matrix(reconstruction_error.true_class, predicted_class)\n",
    "classes = ['Normal','Fraud']\n",
    "\n",
    "fig = plt.figure(figsize=(12, 12))\n",
    "plt.imshow(cnf_matrix, interpolation='nearest', cmap=plt.cm.Blues)\n",
    "plt.title(\"Confusion Matrix\")\n",
    "plt.colorbar()\n",
    "tick_marks = np.arange(len(classes))\n",
    "plt.xticks(tick_marks, classes, rotation=45)\n",
    "plt.yticks(tick_marks, classes)\n",
    "\n",
    "fmt = 'd'\n",
    "thresh = cnf_matrix.max() / 2.\n",
    "for i, j in itertools.product(range(cnf_matrix.shape[0]), range(cnf_matrix.shape[1])):\n",
    "    plt.text(j, i, format(cnf_matrix[i, j], fmt),\n",
    "                horizontalalignment=\"center\",\n",
    "                color=\"white\" if cnf_matrix[i, j] > thresh else \"black\")\n",
    "\n",
    "plt.ylabel('True label')\n",
    "plt.xlabel('Predicted label')\n",
    "plt.tight_layout()\n",
    "image_name = 'Confusion_Matrix_with_threshold_{}.png'.format(th)\n",
    "fig.savefig(os.path.join(PLOTS_DIR, image_name), dpi=fig.dpi)\n"
   ]
  }
 ],
 "metadata": {
  "interpreter": {
   "hash": "6d212663b3cf770cd635e5c142a5e5543deac061c80b340ca989acfa7d95f431"
  },
  "kernelspec": {
   "display_name": "Python 3.9.7 ('deep_learning')",
   "language": "python",
   "name": "python3"
  },
  "language_info": {
   "codemirror_mode": {
    "name": "ipython",
    "version": 3
   },
   "file_extension": ".py",
   "mimetype": "text/x-python",
   "name": "python",
   "nbconvert_exporter": "python",
   "pygments_lexer": "ipython3",
   "version": "3.9.7"
  },
  "orig_nbformat": 4
 },
 "nbformat": 4,
 "nbformat_minor": 2
}
